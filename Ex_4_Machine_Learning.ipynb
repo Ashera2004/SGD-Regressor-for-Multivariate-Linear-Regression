{
 "cells": [
  {
   "cell_type": "code",
   "execution_count": 1,
   "id": "ef743bf0",
   "metadata": {},
   "outputs": [
    {
     "name": "stdout",
     "output_type": "stream",
     "text": [
      "   MedInc  HouseAge  AveRooms  AveBedrms  Population  AveOccup  Latitude  \\\n",
      "0  8.3252      41.0  6.984127   1.023810       322.0  2.555556     37.88   \n",
      "1  8.3014      21.0  6.238137   0.971880      2401.0  2.109842     37.86   \n",
      "2  7.2574      52.0  8.288136   1.073446       496.0  2.802260     37.85   \n",
      "3  5.6431      52.0  5.817352   1.073059       558.0  2.547945     37.85   \n",
      "4  3.8462      52.0  6.281853   1.081081       565.0  2.181467     37.85   \n",
      "\n",
      "   Longitude  HousingPrice  \n",
      "0    -122.23         4.526  \n",
      "1    -122.22         3.585  \n",
      "2    -122.24         3.521  \n",
      "3    -122.25         3.413  \n",
      "4    -122.25         3.422  \n"
     ]
    }
   ],
   "source": [
    "import numpy as np\n",
    "import pandas as pd\n",
    "from sklearn.datasets import fetch_california_housing\n",
    "from sklearn.linear_model import SGDRegressor\n",
    "from sklearn.multioutput import MultiOutputRegressor\n",
    "from sklearn.model_selection import train_test_split\n",
    "from sklearn.metrics import mean_squared_error\n",
    "from sklearn.preprocessing import StandardScaler\n",
    "\n",
    "#load the california housing dataset\n",
    "dataset = fetch_california_housing()\n",
    "df=pd.DataFrame(dataset.data,columns=dataset.feature_names)\n",
    "df['HousingPrice']=dataset.target\n",
    "print(df.head())"
   ]
  },
  {
   "cell_type": "code",
   "execution_count": 2,
   "id": "7a2c1bde",
   "metadata": {},
   "outputs": [],
   "source": [
    "# Use the first 3 features as inputs\n",
    "X = df.drop(columns=['AveOccup', 'HousingPrice'])  # Features: 'MedInc', 'HouseAge', 'AveRooms'\n",
    "\n",
    "# Use 'AveOccup' and 'HousingPrice' as output variables\n",
    "Y = df[['AveOccup', 'HousingPrice']]  # Targets: 'AveOccup', 'HousingPrice'\n",
    "\n",
    "# Split the data into training and testing sets\n",
    "X_train, X_test, Y_train, Y_test = train_test_split(X, Y, test_size=0.2, random_state=42)\n",
    "\n",
    "# Scale the features and target variables\n",
    "scaler_X = StandardScaler()\n",
    "scaler_Y = StandardScaler()\n",
    "\n",
    "X_train = scaler_X.fit_transform(X_train)\n",
    "X_test = scaler_X.transform(X_test)\n",
    "Y_train = scaler_Y.fit_transform(Y_train)\n",
    "Y_test = scaler_Y.transform(Y_test)\n"
   ]
  },
  {
   "cell_type": "code",
   "execution_count": 3,
   "id": "b9e13175",
   "metadata": {},
   "outputs": [
    {
     "name": "stdout",
     "output_type": "stream",
     "text": [
      "Mean Squared Error: 2.016573976367864\n",
      "\n",
      "Predictions:\n",
      " [[3.14335647 0.74352306]\n",
      " [2.74764114 1.77603477]\n",
      " [3.874269   2.66715625]\n",
      " [2.46400218 2.82900289]\n",
      " [1.89905015 2.57792259]]\n"
     ]
    }
   ],
   "source": [
    "#initialize the SGDRegressor\n",
    "sgd=SGDRegressor(max_iter=1000, tol=1e-3)\n",
    "\n",
    "#Use MultiOutputRegressor to handle multiple output variables\n",
    "multi_output_sgd= MultiOutputRegressor(sgd)\n",
    "\n",
    "#train the model\n",
    "multi_output_sgd.fit(X_train,Y_train)\n",
    "\n",
    "#predict on the test data\n",
    "Y_pred= multi_output_sgd.predict(X_test)\n",
    "\n",
    "#inverse transform the predictions to get them back to the original scale\n",
    "Y_pred=scaler_Y.inverse_transform(Y_pred)\n",
    "Y_test=scaler_Y.inverse_transform(Y_test)\n",
    "\n",
    "#evaluate the model using mean squared error\n",
    "mse=mean_squared_error(Y_test,Y_pred)\n",
    "print(\"Mean Squared Error:\",mse)\n",
    "\n",
    "#optionally, print some predictions\n",
    "print(\"\\nPredictions:\\n\",Y_pred[:5]) #print first 5 predictions"
   ]
  }
 ],
 "metadata": {
  "kernelspec": {
   "display_name": "Python 3 (ipykernel)",
   "language": "python",
   "name": "python3"
  },
  "language_info": {
   "codemirror_mode": {
    "name": "ipython",
    "version": 3
   },
   "file_extension": ".py",
   "mimetype": "text/x-python",
   "name": "python",
   "nbconvert_exporter": "python",
   "pygments_lexer": "ipython3",
   "version": "3.11.3"
  }
 },
 "nbformat": 4,
 "nbformat_minor": 5
}
